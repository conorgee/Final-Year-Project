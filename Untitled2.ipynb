{
 "cells": [
  {
   "cell_type": "code",
   "execution_count": 3,
   "id": "8d495bf8-9d71-4163-867a-a7c87d043299",
   "metadata": {},
   "outputs": [
    {
     "name": "stdout",
     "output_type": "stream",
     "text": [
      "Artificial intelligence (AI) is a field of computer science that aims to create intelligent machines that can perform tasks that typically require human intervention, such as visual perception, speech recognition, decision-making, and language translation. AI has applications in a wide range of industries, including healthcare, finance, transportation, and entertainment. However, there are also concerns about the potential ethical and social implications of AI, such as job displacement and algorithmic bias.\n",
      "\n",
      "\n",
      "Artificial intelligence (AI) is a field of computer science that aims to create intelligent machines that can perform tasks that typically require human intervention, such as visual perception, speech recognition, decision-making, and language translation. AI has applications in a wide range of industries, including healthcare, finance, transportation, and entertainment.\n"
     ]
    }
   ],
   "source": [
    "import requests\n",
    "import json\n",
    "\n",
    "# define the endpoint URL\n",
    "url = \"http://localhost:5000/summarize\"\n",
    "\n",
    "# define the input text to summarize\n",
    "text = \"Artificial intelligence (AI) is a field of computer science that aims to create intelligent machines that can perform tasks that typically require human intervention, such as visual perception, speech recognition, decision-making, and language translation. AI has applications in a wide range of industries, including healthcare, finance, transportation, and entertainment. However, there are also concerns about the potential ethical and social implications of AI, such as job displacement and algorithmic bias.\"\n",
    "\n",
    "# create a JSON payload with the input text\n",
    "payload = {\"text\": text}\n",
    "\n",
    "# send a POST request to the server with the JSON payload\n",
    "response = requests.post(url, json=payload)\n",
    "\n",
    "# print the summary returned by the server\n",
    "print(text)\n",
    "print('\\n')\n",
    "print(response.text)\n"
   ]
  },
  {
   "cell_type": "code",
   "execution_count": null,
   "id": "16077243-b36a-4580-9847-bef04437bb0e",
   "metadata": {},
   "outputs": [],
   "source": []
  }
 ],
 "metadata": {
  "kernelspec": {
   "display_name": "Python 3 (ipykernel)",
   "language": "python",
   "name": "python3"
  },
  "language_info": {
   "codemirror_mode": {
    "name": "ipython",
    "version": 3
   },
   "file_extension": ".py",
   "mimetype": "text/x-python",
   "name": "python",
   "nbconvert_exporter": "python",
   "pygments_lexer": "ipython3",
   "version": "3.9.6"
  }
 },
 "nbformat": 4,
 "nbformat_minor": 5
}
